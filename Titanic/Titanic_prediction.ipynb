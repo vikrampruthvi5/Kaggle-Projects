{
 "cells": [
  {
   "cell_type": "markdown",
   "metadata": {},
   "source": [
    "# Titanic Project\n",
    "* Reading data\n",
    "* Exploratory data analysis\n",
    "* Data Cleaning\n",
    "* Splitting data\n",
    "* Building model\n",
    "* Evaluation and cross validation\n",
    "* Selecting final model"
   ]
  },
  {
   "cell_type": "code",
   "execution_count": 1,
   "metadata": {},
   "outputs": [],
   "source": [
    "#!pip install pandas numpy matplotlib sklearn seaborn --user\n",
    "\n",
    "# imports\n",
    "import pandas as pd\n",
    "import numpy as np\n",
    "import matplotlib.pyplot as plt\n",
    "import sklearn as skl\n",
    "from sklearn import preprocessing\n",
    "import seaborn as sns\n",
    "import re"
   ]
  },
  {
   "cell_type": "code",
   "execution_count": 2,
   "metadata": {},
   "outputs": [
    {
     "name": "stdout",
     "output_type": "stream",
     "text": [
      "(891, 12)\n",
      "(418, 11)\n"
     ]
    }
   ],
   "source": [
    "# reading files\n",
    "train_data = pd.read_csv(\"train.csv\")\n",
    "test_data = pd.read_csv(\"test.csv\")\n",
    "\n",
    "# testing loaded data\n",
    "print(train_data.shape)\n",
    "print(test_data.shape)"
   ]
  },
  {
   "cell_type": "markdown",
   "metadata": {},
   "source": [
    "# 1. Exploratory data analysis\n",
    "* description of data\n",
    "* missing values\n",
    "* Plotting graphs for categorical attributes\n",
    "* Plotting graphs for Numerical attributes"
   ]
  },
  {
   "cell_type": "markdown",
   "metadata": {},
   "source": [
    "## 1.1 description of data"
   ]
  },
  {
   "cell_type": "code",
   "execution_count": 3,
   "metadata": {},
   "outputs": [
    {
     "name": "stdout",
     "output_type": "stream",
     "text": [
      "Size of train data :  891 \n",
      "Total no. of columns  :  12 \n",
      " Size of Test data :  418\n"
     ]
    }
   ],
   "source": [
    "# count and columns in the data set\n",
    "print(  \"Size of train data : \", train_data.shape[0],\n",
    "        \"\\nTotal no. of columns  : \", len(train_data.columns),\n",
    "      \"\\n Size of Test data : \", test_data.shape[0]\n",
    "     )"
   ]
  },
  {
   "cell_type": "code",
   "execution_count": 4,
   "metadata": {},
   "outputs": [
    {
     "data": {
      "text/html": [
       "<div>\n",
       "<style scoped>\n",
       "    .dataframe tbody tr th:only-of-type {\n",
       "        vertical-align: middle;\n",
       "    }\n",
       "\n",
       "    .dataframe tbody tr th {\n",
       "        vertical-align: top;\n",
       "    }\n",
       "\n",
       "    .dataframe thead th {\n",
       "        text-align: right;\n",
       "    }\n",
       "</style>\n",
       "<table border=\"1\" class=\"dataframe\">\n",
       "  <thead>\n",
       "    <tr style=\"text-align: right;\">\n",
       "      <th></th>\n",
       "      <th>count</th>\n",
       "      <th>mean</th>\n",
       "      <th>std</th>\n",
       "      <th>min</th>\n",
       "      <th>25%</th>\n",
       "      <th>50%</th>\n",
       "      <th>75%</th>\n",
       "      <th>max</th>\n",
       "    </tr>\n",
       "  </thead>\n",
       "  <tbody>\n",
       "    <tr>\n",
       "      <td>PassengerId</td>\n",
       "      <td>891.0</td>\n",
       "      <td>446.000000</td>\n",
       "      <td>257.353842</td>\n",
       "      <td>1.00</td>\n",
       "      <td>223.5000</td>\n",
       "      <td>446.0000</td>\n",
       "      <td>668.5</td>\n",
       "      <td>891.0000</td>\n",
       "    </tr>\n",
       "    <tr>\n",
       "      <td>Survived</td>\n",
       "      <td>891.0</td>\n",
       "      <td>0.383838</td>\n",
       "      <td>0.486592</td>\n",
       "      <td>0.00</td>\n",
       "      <td>0.0000</td>\n",
       "      <td>0.0000</td>\n",
       "      <td>1.0</td>\n",
       "      <td>1.0000</td>\n",
       "    </tr>\n",
       "    <tr>\n",
       "      <td>Pclass</td>\n",
       "      <td>891.0</td>\n",
       "      <td>2.308642</td>\n",
       "      <td>0.836071</td>\n",
       "      <td>1.00</td>\n",
       "      <td>2.0000</td>\n",
       "      <td>3.0000</td>\n",
       "      <td>3.0</td>\n",
       "      <td>3.0000</td>\n",
       "    </tr>\n",
       "    <tr>\n",
       "      <td>Age</td>\n",
       "      <td>714.0</td>\n",
       "      <td>29.699118</td>\n",
       "      <td>14.526497</td>\n",
       "      <td>0.42</td>\n",
       "      <td>20.1250</td>\n",
       "      <td>28.0000</td>\n",
       "      <td>38.0</td>\n",
       "      <td>80.0000</td>\n",
       "    </tr>\n",
       "    <tr>\n",
       "      <td>SibSp</td>\n",
       "      <td>891.0</td>\n",
       "      <td>0.523008</td>\n",
       "      <td>1.102743</td>\n",
       "      <td>0.00</td>\n",
       "      <td>0.0000</td>\n",
       "      <td>0.0000</td>\n",
       "      <td>1.0</td>\n",
       "      <td>8.0000</td>\n",
       "    </tr>\n",
       "    <tr>\n",
       "      <td>Parch</td>\n",
       "      <td>891.0</td>\n",
       "      <td>0.381594</td>\n",
       "      <td>0.806057</td>\n",
       "      <td>0.00</td>\n",
       "      <td>0.0000</td>\n",
       "      <td>0.0000</td>\n",
       "      <td>0.0</td>\n",
       "      <td>6.0000</td>\n",
       "    </tr>\n",
       "    <tr>\n",
       "      <td>Fare</td>\n",
       "      <td>891.0</td>\n",
       "      <td>32.204208</td>\n",
       "      <td>49.693429</td>\n",
       "      <td>0.00</td>\n",
       "      <td>7.9104</td>\n",
       "      <td>14.4542</td>\n",
       "      <td>31.0</td>\n",
       "      <td>512.3292</td>\n",
       "    </tr>\n",
       "  </tbody>\n",
       "</table>\n",
       "</div>"
      ],
      "text/plain": [
       "             count        mean         std   min       25%       50%    75%  \\\n",
       "PassengerId  891.0  446.000000  257.353842  1.00  223.5000  446.0000  668.5   \n",
       "Survived     891.0    0.383838    0.486592  0.00    0.0000    0.0000    1.0   \n",
       "Pclass       891.0    2.308642    0.836071  1.00    2.0000    3.0000    3.0   \n",
       "Age          714.0   29.699118   14.526497  0.42   20.1250   28.0000   38.0   \n",
       "SibSp        891.0    0.523008    1.102743  0.00    0.0000    0.0000    1.0   \n",
       "Parch        891.0    0.381594    0.806057  0.00    0.0000    0.0000    0.0   \n",
       "Fare         891.0   32.204208   49.693429  0.00    7.9104   14.4542   31.0   \n",
       "\n",
       "                  max  \n",
       "PassengerId  891.0000  \n",
       "Survived       1.0000  \n",
       "Pclass         3.0000  \n",
       "Age           80.0000  \n",
       "SibSp          8.0000  \n",
       "Parch          6.0000  \n",
       "Fare         512.3292  "
      ]
     },
     "execution_count": 4,
     "metadata": {},
     "output_type": "execute_result"
    }
   ],
   "source": [
    "# Knowing more about data\n",
    "desc = train_data.describe()\n",
    "desc.transpose() # gives description about numerical data only"
   ]
  },
  {
   "cell_type": "code",
   "execution_count": 5,
   "metadata": {},
   "outputs": [
    {
     "name": "stdout",
     "output_type": "stream",
     "text": [
      "<class 'pandas.core.frame.DataFrame'>\n",
      "RangeIndex: 891 entries, 0 to 890\n",
      "Data columns (total 12 columns):\n",
      "PassengerId    891 non-null int64\n",
      "Survived       891 non-null int64\n",
      "Pclass         891 non-null int64\n",
      "Name           891 non-null object\n",
      "Sex            891 non-null object\n",
      "Age            714 non-null float64\n",
      "SibSp          891 non-null int64\n",
      "Parch          891 non-null int64\n",
      "Ticket         891 non-null object\n",
      "Fare           891 non-null float64\n",
      "Cabin          204 non-null object\n",
      "Embarked       889 non-null object\n",
      "dtypes: float64(2), int64(5), object(5)\n",
      "memory usage: 83.7+ KB\n"
     ]
    }
   ],
   "source": [
    "x = train_data.info()"
   ]
  },
  {
   "cell_type": "markdown",
   "metadata": {},
   "source": [
    "## 1.2 Missing values"
   ]
  },
  {
   "cell_type": "code",
   "execution_count": 6,
   "metadata": {},
   "outputs": [],
   "source": [
    "def attr_info(dataset):\n",
    "    miss_val = pd.DataFrame()\n",
    "    count = dataset.shape[0]\n",
    "    name =[]\n",
    "    counter = []\n",
    "    missing = []\n",
    "    type_v = []\n",
    "    dt = []\n",
    "    for i in dataset.columns:\n",
    "        tp = dataset[i].dtype.name\n",
    "        name.append(i)\n",
    "        counter.append(dataset[i].count())\n",
    "        missing.append(count-dataset[i].count())\n",
    "        type_v.append(tp)\n",
    "        dt.append(\"Ratio / Interval\" if (tp!='object') else \"Nominal / Ordinal\")\n",
    "    miss_val = pd.DataFrame(data={'Available': counter, \n",
    "                                  'Missing': missing, \n",
    "                                  'Data Type' : type_v, \n",
    "                                  'Scale' : dt}, index=name)\n",
    "    miss_val.sort_values(by=\"Missing\", ascending=False, inplace=True)\n",
    "    only_miss_val = miss_val[miss_val['Missing']>0]\n",
    "    return miss_val"
   ]
  },
  {
   "cell_type": "code",
   "execution_count": 7,
   "metadata": {},
   "outputs": [
    {
     "data": {
      "text/html": [
       "<div>\n",
       "<style scoped>\n",
       "    .dataframe tbody tr th:only-of-type {\n",
       "        vertical-align: middle;\n",
       "    }\n",
       "\n",
       "    .dataframe tbody tr th {\n",
       "        vertical-align: top;\n",
       "    }\n",
       "\n",
       "    .dataframe thead th {\n",
       "        text-align: right;\n",
       "    }\n",
       "</style>\n",
       "<table border=\"1\" class=\"dataframe\">\n",
       "  <thead>\n",
       "    <tr style=\"text-align: right;\">\n",
       "      <th></th>\n",
       "      <th>Available</th>\n",
       "      <th>Missing</th>\n",
       "      <th>Data Type</th>\n",
       "      <th>Scale</th>\n",
       "    </tr>\n",
       "  </thead>\n",
       "  <tbody>\n",
       "    <tr>\n",
       "      <td>Cabin</td>\n",
       "      <td>204</td>\n",
       "      <td>687</td>\n",
       "      <td>object</td>\n",
       "      <td>Nominal / Ordinal</td>\n",
       "    </tr>\n",
       "    <tr>\n",
       "      <td>Age</td>\n",
       "      <td>714</td>\n",
       "      <td>177</td>\n",
       "      <td>float64</td>\n",
       "      <td>Ratio / Interval</td>\n",
       "    </tr>\n",
       "    <tr>\n",
       "      <td>Embarked</td>\n",
       "      <td>889</td>\n",
       "      <td>2</td>\n",
       "      <td>object</td>\n",
       "      <td>Nominal / Ordinal</td>\n",
       "    </tr>\n",
       "    <tr>\n",
       "      <td>PassengerId</td>\n",
       "      <td>891</td>\n",
       "      <td>0</td>\n",
       "      <td>int64</td>\n",
       "      <td>Ratio / Interval</td>\n",
       "    </tr>\n",
       "    <tr>\n",
       "      <td>Survived</td>\n",
       "      <td>891</td>\n",
       "      <td>0</td>\n",
       "      <td>int64</td>\n",
       "      <td>Ratio / Interval</td>\n",
       "    </tr>\n",
       "    <tr>\n",
       "      <td>Pclass</td>\n",
       "      <td>891</td>\n",
       "      <td>0</td>\n",
       "      <td>int64</td>\n",
       "      <td>Ratio / Interval</td>\n",
       "    </tr>\n",
       "    <tr>\n",
       "      <td>Name</td>\n",
       "      <td>891</td>\n",
       "      <td>0</td>\n",
       "      <td>object</td>\n",
       "      <td>Nominal / Ordinal</td>\n",
       "    </tr>\n",
       "    <tr>\n",
       "      <td>Sex</td>\n",
       "      <td>891</td>\n",
       "      <td>0</td>\n",
       "      <td>object</td>\n",
       "      <td>Nominal / Ordinal</td>\n",
       "    </tr>\n",
       "    <tr>\n",
       "      <td>SibSp</td>\n",
       "      <td>891</td>\n",
       "      <td>0</td>\n",
       "      <td>int64</td>\n",
       "      <td>Ratio / Interval</td>\n",
       "    </tr>\n",
       "    <tr>\n",
       "      <td>Parch</td>\n",
       "      <td>891</td>\n",
       "      <td>0</td>\n",
       "      <td>int64</td>\n",
       "      <td>Ratio / Interval</td>\n",
       "    </tr>\n",
       "    <tr>\n",
       "      <td>Ticket</td>\n",
       "      <td>891</td>\n",
       "      <td>0</td>\n",
       "      <td>object</td>\n",
       "      <td>Nominal / Ordinal</td>\n",
       "    </tr>\n",
       "    <tr>\n",
       "      <td>Fare</td>\n",
       "      <td>891</td>\n",
       "      <td>0</td>\n",
       "      <td>float64</td>\n",
       "      <td>Ratio / Interval</td>\n",
       "    </tr>\n",
       "  </tbody>\n",
       "</table>\n",
       "</div>"
      ],
      "text/plain": [
       "             Available  Missing Data Type              Scale\n",
       "Cabin              204      687    object  Nominal / Ordinal\n",
       "Age                714      177   float64   Ratio / Interval\n",
       "Embarked           889        2    object  Nominal / Ordinal\n",
       "PassengerId        891        0     int64   Ratio / Interval\n",
       "Survived           891        0     int64   Ratio / Interval\n",
       "Pclass             891        0     int64   Ratio / Interval\n",
       "Name               891        0    object  Nominal / Ordinal\n",
       "Sex                891        0    object  Nominal / Ordinal\n",
       "SibSp              891        0     int64   Ratio / Interval\n",
       "Parch              891        0     int64   Ratio / Interval\n",
       "Ticket             891        0    object  Nominal / Ordinal\n",
       "Fare               891        0   float64   Ratio / Interval"
      ]
     },
     "execution_count": 7,
     "metadata": {},
     "output_type": "execute_result"
    }
   ],
   "source": [
    "tr_info = attr_info(dataset=train_data)\n",
    "tr_info"
   ]
  },
  {
   "cell_type": "markdown",
   "metadata": {},
   "source": [
    "## 1.3 Plotting graphs for categorical data"
   ]
  },
  {
   "cell_type": "code",
   "execution_count": 8,
   "metadata": {},
   "outputs": [
    {
     "data": {
      "text/plain": [
       "['Cabin', 'Embarked', 'Name', 'Sex', 'Ticket']"
      ]
     },
     "execution_count": 8,
     "metadata": {},
     "output_type": "execute_result"
    }
   ],
   "source": [
    "cat_vars = tr_info[tr_info['Data Type'] == 'object'].index.tolist()\n",
    "cat_vars"
   ]
  },
  {
   "cell_type": "markdown",
   "metadata": {},
   "source": [
    "#### 1.3.1 Name "
   ]
  },
  {
   "cell_type": "code",
   "execution_count": 9,
   "metadata": {},
   "outputs": [
    {
     "data": {
      "text/plain": [
       "891"
      ]
     },
     "execution_count": 9,
     "metadata": {},
     "output_type": "execute_result"
    }
   ],
   "source": [
    "sns.set(style=\"darkgrid\") # Setting dark grid background for graph\n",
    "\n",
    "count = train_data.shape[0]\n",
    "# Name\n",
    "train_data['Name'].count()\n",
    "# 891\n",
    "# Since all the values are unique, name variable can be of no use being Nominal variable"
   ]
  },
  {
   "cell_type": "markdown",
   "metadata": {},
   "source": [
    "#### 1.3.2 Embarked"
   ]
  },
  {
   "cell_type": "code",
   "execution_count": 10,
   "metadata": {},
   "outputs": [
    {
     "name": "stdout",
     "output_type": "stream",
     "text": [
      "Missing :  2\n",
      "Unique :  ['S', 'C', 'Q', nan]\n"
     ]
    },
    {
     "data": {
      "image/png": "[encoded data removed]",
      "text/plain": [
       "<Figure size 432x288 with 1 Axes>"
      ]
     },
     "metadata": {},
     "output_type": "display_data"
    }
   ],
   "source": [
    "# Embarked\n",
    "# Where the passenger got on the ship (C - Cherbourg, S - Southampton, Q = Queenstown)\n",
    "print(\"Missing : \", count-train_data['Embarked'].count())\n",
    "print(\"Unique : \", train_data['Embarked'].unique().tolist())\n",
    "attr = train_data['Embarked']\n",
    "attr.unique().tolist()\n",
    "# ['S', 'C', 'Q', nan]\n",
    "ax = sns.countplot(x='Embarked', data=train_data)\n",
    "plt.title(\"Where the passenger got on the ship (C - Cherbourg, S - Southampton, Q = Queenstown)\")\n",
    "plt.xticks(np.arange(3), ('Southampton','Cherbourg', 'Queenstown'))\n",
    "plt.show(ax)\n",
    "\n",
    "# It is evident that most of the people are from Southampton. Very few people are from Queenstown.\n",
    "# So the chance of missing value being a person boarded in Southampton is high.\n"
   ]
  },
  {
   "cell_type": "markdown",
   "metadata": {},
   "source": [
    "#### 1.3.3 Sex"
   ]
  },
  {
   "cell_type": "code",
   "execution_count": 11,
   "metadata": {},
   "outputs": [
    {
     "name": "stdout",
     "output_type": "stream",
     "text": [
      "Missing :  0\n",
      "Unique :  ['male', 'female']\n"
     ]
    },
    {
     "data": {
      "image/png": "[encoded data removed]",
      "text/plain": [
       "<Figure size 432x288 with 1 Axes>"
      ]
     },
     "metadata": {},
     "output_type": "display_data"
    },
    {
     "data": {
      "image/png": "[encoded data removed]",
      "text/plain": [
       "<Figure size 432x288 with 1 Axes>"
      ]
     },
     "metadata": {},
     "output_type": "display_data"
    }
   ],
   "source": [
    "# Sex\n",
    "print(\"Missing : \", count-train_data['Sex'].count())\n",
    "print(\"Unique : \", train_data['Sex'].unique().tolist())\n",
    "\n",
    "ax1 = sns.countplot(x='Sex', data=train_data)\n",
    "# Q1 : Male are greater than female. Hence the data is skewed... WHAT TO DO?\n",
    "\n",
    "# Sex in comparison with Embarked\n",
    "# sns.catplot(x='Sex', \n",
    "#             data=train_data,  \n",
    "#             col='Embarked', \n",
    "#             kind=\"count\",\n",
    "#             height=4, aspect=.7)\n",
    "plt.show(ax1)\n",
    "\n",
    "ax2 = sns.countplot(hue=\"Sex\", x=\"Embarked\", data=train_data)\n",
    "plt.show(ax2)\n",
    "\n",
    "# From every city, male are boarded more than female. So if only the male data is considered\n",
    "# model will be biased. HOW TO SOLVE IT?\n",
    "\n",
    "# Chance of a missing vale being S if S=M is higher. \n",
    "#          At the same "
   ]
  },
  {
   "cell_type": "markdown",
   "metadata": {},
   "source": [
    "### 1.3.4 Cabin\n",
    "### <font color='red'>REVISIT ATTRIBUTE</font>\n",
    "Due to high number of missing values, Cabin attribute has been left from model building\n",
    "Assuming that the value is crucial, variable is marked to re visit"
   ]
  },
  {
   "cell_type": "code",
   "execution_count": 12,
   "metadata": {},
   "outputs": [
    {
     "name": "stdout",
     "output_type": "stream",
     "text": [
      "Missing :  687\n",
      "Unique :  [nan, 'C85', 'C123', 'E46', 'G6', 'C103', 'D56', 'A6', 'C23 C25 C27', 'B78', 'D33', 'B30', 'C52', 'B28', 'C83', 'F33', 'F G73', 'E31', 'A5', 'D10 D12', 'D26', 'C110', 'B58 B60', 'E101', 'F E69', 'D47', 'B86', 'F2', 'C2', 'E33', 'B19', 'A7', 'C49', 'F4', 'A32', 'B4', 'B80', 'A31', 'D36', 'D15', 'C93', 'C78', 'D35', 'C87', 'B77', 'E67', 'B94', 'C125', 'C99', 'C118', 'D7', 'A19', 'B49', 'D', 'C22 C26', 'C106', 'C65', 'E36', 'C54', 'B57 B59 B63 B66', 'C7', 'E34', 'C32', 'B18', 'C124', 'C91', 'E40', 'T', 'C128', 'D37', 'B35', 'E50', 'C82', 'B96 B98', 'E10', 'E44', 'A34', 'C104', 'C111', 'C92', 'E38', 'D21', 'E12', 'E63', 'A14', 'B37', 'C30', 'D20', 'B79', 'E25', 'D46', 'B73', 'C95', 'B38', 'B39', 'B22', 'C86', 'C70', 'A16', 'C101', 'C68', 'A10', 'E68', 'B41', 'A20', 'D19', 'D50', 'D9', 'A23', 'B50', 'A26', 'D48', 'E58', 'C126', 'B71', 'B51 B53 B55', 'D49', 'B5', 'B20', 'F G63', 'C62 C64', 'E24', 'C90', 'C45', 'E8', 'B101', 'D45', 'C46', 'D30', 'E121', 'D11', 'E77', 'F38', 'B3', 'D6', 'B82 B84', 'D17', 'A36', 'B102', 'B69', 'E49', 'C47', 'D28', 'E17', 'A24', 'C50', 'B42', 'C148']\n"
     ]
    },
    {
     "data": {
      "image/png": "[encoded data removed]",
      "text/plain": [
       "<Figure size 720x72 with 1 Axes>"
      ]
     },
     "metadata": {},
     "output_type": "display_data"
    },
    {
     "data": {
      "image/png": "[encoded data removed]",
      "text/plain": [
       "<Figure size 720x72 with 1 Axes>"
      ]
     },
     "metadata": {},
     "output_type": "display_data"
    }
   ],
   "source": [
    "# Cabin\n",
    "print(\"Missing : \", count-train_data['Cabin'].count())\n",
    "print(\"Unique : \", train_data['Cabin'].unique().tolist())\n",
    "\n",
    "\n",
    "# fig = plt.figure(figsize=(25, 100))\n",
    "# ax = sns.countplot(y=train_data.Cabin, hue=train_data.Survived)\n",
    "# plt.show(ax)\n",
    "\n",
    "# fig = plt.figure(figsize=(25, 100))\n",
    "# ax = sns.countplot(y=train_data.Cabin)\n",
    "# plt.show(ax)\n",
    "\n",
    "fig = plt.figure(figsize=(10, 1))\n",
    "ax = sns.countplot(y=train_data[train_data.Cabin=='T'].Cabin, hue=train_data.Survived)\n",
    "plt.show(ax)\n",
    "\n",
    "fig = plt.figure(figsize=(10, 1))\n",
    "ax = sns.countplot(y=train_data[train_data.Cabin=='T'].Cabin)\n",
    "plt.show(ax)\n",
    "    \n",
    "# There is some pattern that can identified \n",
    "# Possible relations with price of the ticket, \n",
    "\n",
    "# Checking only for T. Seems like none of the passengers in T cabin are alive"
   ]
  },
  {
   "cell_type": "markdown",
   "metadata": {},
   "source": [
    "#### 1.3.5 Ticket"
   ]
  },
  {
   "cell_type": "code",
   "execution_count": 13,
   "metadata": {},
   "outputs": [
    {
     "name": "stdout",
     "output_type": "stream",
     "text": [
      "Missing :  0\n",
      "Unique count :  681\n"
     ]
    }
   ],
   "source": [
    "# Ticket\n",
    "print(\"Missing : \", count-train_data['Ticket'].count())\n",
    "#print(\"Unique : \", train_data['Ticket'].unique().tolist())\n",
    "print(\"Unique count : \", len(train_data['Ticket'].unique().tolist()))\n",
    "\n",
    "## Something is suspecious. Missing values are 0, How come unique count is only 681?\n",
    "# Identify if there are any common tickets"
   ]
  },
  {
   "cell_type": "markdown",
   "metadata": {},
   "source": [
    "## 1.4. Plotting graphs for Numerical attributes"
   ]
  },
  {
   "cell_type": "code",
   "execution_count": 14,
   "metadata": {},
   "outputs": [
    {
     "data": {
      "text/plain": [
       "['Age', 'PassengerId', 'Survived', 'Pclass', 'SibSp', 'Parch', 'Fare']"
      ]
     },
     "execution_count": 14,
     "metadata": {},
     "output_type": "execute_result"
    }
   ],
   "source": [
    "num_vars = tr_info[tr_info['Data Type'] != 'object'].index.tolist()\n",
    "num_vars"
   ]
  },
  {
   "cell_type": "code",
   "execution_count": 15,
   "metadata": {},
   "outputs": [],
   "source": [
    "# How to visualize numeric data\n",
    "# Check the distribution, mean, median, mode, SD, variance"
   ]
  },
  {
   "cell_type": "markdown",
   "metadata": {},
   "source": [
    "### 1.4.1 Age"
   ]
  },
  {
   "cell_type": "code",
   "execution_count": 16,
   "metadata": {},
   "outputs": [
    {
     "name": "stdout",
     "output_type": "stream",
     "text": [
      "Missing :  177\n"
     ]
    }
   ],
   "source": [
    "# age\n",
    "age_df = train_data['Age']\n",
    "print(\"Missing : \", count-age_df.count())\n"
   ]
  },
  {
   "cell_type": "code",
   "execution_count": 17,
   "metadata": {},
   "outputs": [
    {
     "data": {
      "text/plain": [
       "['Cabin',\n",
       " 'Embarked',\n",
       " 'Name',\n",
       " 'Sex',\n",
       " 'Ticket',\n",
       " 'Age',\n",
       " 'PassengerId',\n",
       " 'Survived',\n",
       " 'Pclass',\n",
       " 'SibSp',\n",
       " 'Parch',\n",
       " 'Fare']"
      ]
     },
     "execution_count": 17,
     "metadata": {},
     "output_type": "execute_result"
    }
   ],
   "source": [
    "cat_vars + num_vars"
   ]
  },
  {
   "cell_type": "markdown",
   "metadata": {},
   "source": [
    "## Data Cleaning"
   ]
  },
  {
   "cell_type": "code",
   "execution_count": 18,
   "metadata": {},
   "outputs": [],
   "source": [
    "# Missing values\n",
    "\n",
    "dt_train = pd.DataFrame(\n",
    "    {\n",
    "        'PassengerId': train_data.PassengerId,\n",
    "        'Sex': train_data.Sex,\n",
    "    })\n"
   ]
  },
  {
   "cell_type": "code",
   "execution_count": 19,
   "metadata": {},
   "outputs": [],
   "source": [
    "# convert float to int\n",
    "# Splitting Sex into two columns, as there is chance that model may assume that 1 is higher than 0,\n",
    "# The process is called encoding. OneHotEncoder of sklearn.preprocessing is used for this.\n",
    "# IMPORTANT:\n",
    "# a decision tree can be learned directly from categorical data with no data transform required (this depends on the specific implementation)\n",
    "# How to Convert Categorical Data to Numerical Data?\n",
    "#This involves two steps:\n",
    "#    Integer Encoding\n",
    "#    One-Hot Encoding\n",
    "\n",
    "# Integer encoding\n",
    "# from sklearn.preprocessing import LabelEncoder\n",
    "# lblEncoder = LabelEncoder()\n",
    "\n",
    "# Male is 1 and Female is 0, taken automatically\n",
    "#dt_train.Sex = lblEncoder.fit_transform(s)"
   ]
  },
  {
   "cell_type": "code",
   "execution_count": 20,
   "metadata": {},
   "outputs": [],
   "source": [
    "# Now One-Hot encoding\n",
    "# Just using Integer encoding is not enough as with Int encoding, model assumes that the values are naturally ordered\n",
    "# Hence, we split the data into multiple derived columns to give equal preference to the unique values\n",
    "from sklearn.preprocessing import OneHotEncoder\n",
    "x = pd.get_dummies(dt_train.Sex)\n",
    "dt_train = pd.concat([dt_train, x], axis='columns')\n",
    "if 'Sex' in dt_train.columns.tolist():\n",
    "    dt_train.drop(columns='Sex', inplace=True)"
   ]
  },
  {
   "cell_type": "code",
   "execution_count": 34,
   "metadata": {},
   "outputs": [],
   "source": [
    "# Pclass\n",
    "dt_train['Pclass'] = train_data['Pclass']\n",
    "\n",
    "# Age\n",
    "dt_train['Age'] = train_data['Age']\n",
    "dt_train['Age'] = dt_train['Age'].fillna(dt_train['Age'].median())\n",
    "\n",
    "# SibSp\n",
    "dt_train['SibSp'] = train_data['SibSp']\n",
    "\n",
    "# Embarked\n",
    "dt_train['Embarked'] = train_data['Embarked']\n",
    "# missing values will be filled with most frequent value\n",
    "# also changing values from SCQ to 012\n",
    "# dt_train['Embarked'].value_counts(normalize=True).plot(kind='bar', color= ['r', 'b', 'orange'])\n",
    "dt_train['Embarked'] = dt_train['Embarked'].fillna(\"S\")\n",
    "dt_train.loc[dt_train['Embarked']==\"S\", 'Embarked'] = 0\n",
    "dt_train.loc[dt_train['Embarked']==\"C\", 'Embarked'] = 1\n",
    "dt_train.loc[dt_train['Embarked']==\"Q\", 'Embarked'] = 2\n",
    "\n",
    "# Parch\n",
    "dt_train['Parch'] = train_data['Parch']\n",
    "dt_train['Fare'] = train_data['Fare']\n",
    "\n",
    "# Target . - Survived\\\n",
    "dt_train['Survived'] = train_data['Survived']"
   ]
  },
  {
   "cell_type": "markdown",
   "metadata": {},
   "source": [
    "# Applying Algorithms\n",
    "* Logistic regression"
   ]
  },
  {
   "cell_type": "code",
   "execution_count": 37,
   "metadata": {},
   "outputs": [
    {
     "name": "stdout",
     "output_type": "stream",
     "text": [
      "Linear regression :  79.91\n"
     ]
    }
   ],
   "source": [
    "from sklearn import linear_model\n",
    "from sklearn import preprocessing\n",
    "\n",
    "target = dt_train['Survived'].values\n",
    "features = dt_train[dt_train.columns.tolist()[:-1]].values\n",
    "\n",
    "learner = linear_model.LogisticRegression(solver='lbfgs', max_iter=1000)\n",
    "classifier = learner.fit(features, target)\n",
    "\n",
    "print(\"Linear regression : \", round(classifier.score(features, target)*100, 2))"
   ]
  },
  {
   "cell_type": "code",
   "execution_count": null,
   "metadata": {},
   "outputs": [],
   "source": [
    "# Trying catboost\n",
    "from catboost import CatBoostClassifier\n",
    "\n",
    "learner = CatBoostClassifier()\n",
    "\n",
    "classifier = learner.fit(features, target)"
   ]
  },
  {
   "cell_type": "code",
   "execution_count": 39,
   "metadata": {},
   "outputs": [
    {
     "data": {
      "text/plain": [
       "0.9034792368125701"
      ]
     },
     "execution_count": 39,
     "metadata": {},
     "output_type": "execute_result"
    }
   ],
   "source": [
    "classifier.score(features, target)"
   ]
  },
  {
   "cell_type": "code",
   "execution_count": null,
   "metadata": {},
   "outputs": [],
   "source": []
  }
 ],
 "metadata": {
  "kernelspec": {
   "display_name": "Python 3",
   "language": "python",
   "name": "python3"
  },
  "language_info": {
   "codemirror_mode": {
    "name": "ipython",
    "version": 3
   },
   "file_extension": ".py",
   "mimetype": "text/x-python",
   "name": "python",
   "nbconvert_exporter": "python",
   "pygments_lexer": "ipython3",
   "version": "3.7.3"
  }
 },
 "nbformat": 4,
 "nbformat_minor": 4
}
